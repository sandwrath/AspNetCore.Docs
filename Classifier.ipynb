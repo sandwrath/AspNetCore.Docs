{
  "nbformat": 4,
  "nbformat_minor": 0,
  "metadata": {
    "accelerator": "GPU",
    "colab": {
      "name": "Classifier.ipynb",
      "provenance": [],
      "collapsed_sections": [],
      "mount_file_id": "1xAzjY4N8PEiG7ttn6yj4e5n1AVM3liWa",
      "authorship_tag": "ABX9TyMPeNm4pEz00LnT2MA97gyP",
      "include_colab_link": true
    },
    "kernelspec": {
      "display_name": "Python 3",
      "name": "python3"
    },
    "language_info": {
      "name": "python"
    }
  },
  "cells": [
    {
      "cell_type": "markdown",
      "metadata": {
        "id": "view-in-github",
        "colab_type": "text"
      },
      "source": [
        "<a href=\"https://colab.research.google.com/github/sandwrath/AspNetCore.Docs/blob/JamesNK-patch-2/Classifier.ipynb\" target=\"_parent\"><img src=\"https://colab.research.google.com/assets/colab-badge.svg\" alt=\"Open In Colab\"/></a>"
      ]
    },
    {
      "cell_type": "markdown",
      "metadata": {
        "id": "BU567GUtnerZ"
      },
      "source": [
        "### Import the Libraries"
      ]
    },
    {
      "cell_type": "code",
      "metadata": {
        "id": "ZCKjP4ElVw2F"
      },
      "source": [
        "import csv\n",
        "import pandas as pd\n",
        "import tensorflow as tf\n",
        "import numpy as np\n",
        "from tensorflow.keras.preprocessing.text import Tokenizer\n",
        "from tensorflow.keras.preprocessing.sequence import pad_sequences\n",
        "from tensorflow.keras.models import Sequential\n",
        "from tensorflow.keras.layers import Dense, Flatten, LSTM, Dropout, Activation, Embedding, Bidirectional\n",
        "\n",
        "import matplotlib.pyplot as plt\n",
        "\n",
        "import datetime\n",
        "%load_ext tensorboard"
      ],
      "execution_count": 4,
      "outputs": []
    },
    {
      "cell_type": "code",
      "metadata": {
        "id": "Jg26vXasju-z"
      },
      "source": [
        "rm -rf ./logs/"
      ],
      "execution_count": null,
      "outputs": []
    },
    {
      "cell_type": "code",
      "metadata": {
        "colab": {
          "base_uri": "https://localhost:8080/"
        },
        "id": "QgvObI8GjwYV",
        "outputId": "a97f261b-0bf7-4c4f-e8ad-eecc64b1808a"
      },
      "source": [
        "import nltk\n",
        "nltk.download('stopwords')\n",
        "from nltk.corpus import stopwords\n",
        "STOPWORDS = set(stopwords.words('english'))"
      ],
      "execution_count": 5,
      "outputs": [
        {
          "output_type": "stream",
          "text": [
            "[nltk_data] Downloading package stopwords to /root/nltk_data...\n",
            "[nltk_data]   Unzipping corpora/stopwords.zip.\n"
          ],
          "name": "stdout"
        }
      ]
    },
    {
      "cell_type": "markdown",
      "metadata": {
        "id": "1h4EWqsln0-y"
      },
      "source": [
        "# Hyper-Parameters"
      ]
    },
    {
      "cell_type": "code",
      "metadata": {
        "id": "FpRgkX9ZnzqB"
      },
      "source": [
        "vocab_size = 5000 # make the top list of words (common words)\n",
        "embedding_dim = 64\n",
        "max_length = 200\n",
        "trunc_type = 'post'\n",
        "padding_type = 'post'\n",
        "oov_tok = '<OOV>' # OOV = Out of Vocabulary\n",
        "training_portion = .7"
      ],
      "execution_count": 6,
      "outputs": []
    },
    {
      "cell_type": "markdown",
      "metadata": {
        "id": "QCbAZzT6oIDl"
      },
      "source": [
        "# Populate List and Remove the Stopwords"
      ]
    },
    {
      "cell_type": "code",
      "metadata": {
        "id": "uXuaUyZuqhCA"
      },
      "source": [
        "articles = []\n",
        "labels = []\n",
        "i = 0\n",
        "\n",
        "with open(\"/content/drive/MyDrive/ABSA/Classifier Data/sentences.csv\", 'r',encoding='latin-1') as csvfile:\n",
        "    reader = csv.reader(csvfile, delimiter=',')\n",
        "    next(reader)\n",
        "    for row in reader:\n",
        "      if(row[2] == 'PROBLEM DISCOVERY'):\n",
        "        labels.append('BUG')\n",
        "      if(row[2] == 'INFORMATION SEEKING'):\n",
        "        labels.append('HELP') \n",
        "      if(row[2] == 'FEATURE REQUEST'):\n",
        "        labels.append('REQUEST') \n",
        "      if(row[2] == 'INFORMATION GIVING'):\n",
        "        labels.append('FEEDBACK')         \n",
        "      if(row[2] == 'OTHER'):\n",
        "        labels.append('OTHER')\n",
        "      article = row[1]\n",
        "      for word in STOPWORDS:\n",
        "          token = ' ' + word + ' '\n",
        "          article = article.replace(token, ' ')\n",
        "          article = article.replace(' ', ' ')\n",
        "      articles.append(article)\n",
        "      # i = i+1\n",
        "      # if i > 10000 :\n",
        "      #   break;"
      ],
      "execution_count": 7,
      "outputs": []
    },
    {
      "cell_type": "code",
      "metadata": {
        "id": "rwty84ppj3r5"
      },
      "source": [
        "df = pd.DataFrame(articles, columns=[\"review\"])\n",
        "df.to_csv('/content/drive/MyDrive/ABSA/Classifier Data/processed_reviews.csv', index=False)\n",
        "df = pd.DataFrame(labels,columns=[\"label\"])\n",
        "df.to_csv('/content/drive/MyDrive/ABSA/Classifier Data/processed_labels.csv', index=False)"
      ],
      "execution_count": null,
      "outputs": []
    },
    {
      "cell_type": "markdown",
      "metadata": {
        "id": "yIzzdYq_vRdg"
      },
      "source": [
        "# Create Training and Validation Set"
      ]
    },
    {
      "cell_type": "code",
      "metadata": {
        "colab": {
          "base_uri": "https://localhost:8080/"
        },
        "id": "UfN2yXJASXPK",
        "outputId": "7c609968-b831-47b0-99d7-f3177f3748f2"
      },
      "source": [
        "print(len(labels))\n",
        "print(len(articles))"
      ],
      "execution_count": 8,
      "outputs": [
        {
          "output_type": "stream",
          "text": [
            "451293\n",
            "451293\n"
          ],
          "name": "stdout"
        }
      ]
    },
    {
      "cell_type": "code",
      "metadata": {
        "id": "_FtSDm1nvROX"
      },
      "source": [
        "train_size = int(len(articles) * training_portion)\n",
        "\n",
        "train_articles = articles[0: train_size]\n",
        "train_labels = labels[0: train_size]\n",
        "\n",
        "validation_articles = articles[train_size:]\n",
        "validation_labels = labels[train_size:]"
      ],
      "execution_count": 9,
      "outputs": []
    },
    {
      "cell_type": "code",
      "metadata": {
        "colab": {
          "base_uri": "https://localhost:8080/"
        },
        "id": "n4qN1vuBShrm",
        "outputId": "02211d67-44ec-4860-cd57-9bb2a41ef0a4"
      },
      "source": [
        "print(\"train Size:\", train_size)\n",
        "print(\"train articles : \",len(train_articles))\n",
        "print(\"train lables: \", len(train_labels))\n",
        "print(\"validation articles: \" , len(validation_articles))\n",
        "print(\"validation Lables: \", len(validation_labels))"
      ],
      "execution_count": null,
      "outputs": [
        {
          "output_type": "stream",
          "text": [
            "train Size: 315905\n",
            "train articles :  315905\n",
            "train lables:  315905\n",
            "validation articles:  135388\n",
            "validation Lables:  135388\n"
          ],
          "name": "stdout"
        }
      ]
    },
    {
      "cell_type": "code",
      "metadata": {
        "id": "q2xuCyI7TCpp"
      },
      "source": [
        "tokenizer = Tokenizer(num_words = vocab_size, oov_token=oov_tok)\n",
        "tokenizer.fit_on_texts(train_articles)\n",
        "word_index = tokenizer.word_index"
      ],
      "execution_count": 10,
      "outputs": []
    },
    {
      "cell_type": "code",
      "metadata": {
        "id": "aNNmGebfTesb"
      },
      "source": [
        "train_sequences = tokenizer.texts_to_sequences(train_articles)"
      ],
      "execution_count": 11,
      "outputs": []
    },
    {
      "cell_type": "code",
      "metadata": {
        "id": "JlFrOynbTgjg"
      },
      "source": [
        "train_padded = pad_sequences(train_sequences, maxlen=max_length, padding=padding_type, truncating=trunc_type)"
      ],
      "execution_count": 12,
      "outputs": []
    },
    {
      "cell_type": "code",
      "metadata": {
        "id": "r3fl2l_xTqoR"
      },
      "source": [
        "tokenizer = Tokenizer(num_words = vocab_size, oov_token=oov_tok)\n",
        "tokenizer.fit_on_texts(train_articles)\n",
        "word_index = tokenizer.word_index\n",
        "\n",
        "train_sequences = tokenizer.texts_to_sequences(train_articles)\n",
        "train_padded = pad_sequences(train_sequences, maxlen=max_length, padding=padding_type, truncating=trunc_type)\n",
        "\n",
        "validation_sequences = tokenizer.texts_to_sequences(validation_articles)\n",
        "validation_padded = pad_sequences(validation_sequences, maxlen=max_length, padding=padding_type, truncating=trunc_type)"
      ],
      "execution_count": 13,
      "outputs": []
    },
    {
      "cell_type": "code",
      "metadata": {
        "colab": {
          "base_uri": "https://localhost:8080/"
        },
        "id": "4puZVUa6Ttbh",
        "outputId": "c57dd5b8-f86e-453f-9558-500126b12e65"
      },
      "source": [
        "print(set(labels))"
      ],
      "execution_count": null,
      "outputs": [
        {
          "output_type": "stream",
          "text": [
            "{'HELP', 'FEEDBACK', 'REQUEST', 'OTHER', 'BUG'}\n"
          ],
          "name": "stdout"
        }
      ]
    },
    {
      "cell_type": "code",
      "metadata": {
        "id": "b7k0ANDmTz8B"
      },
      "source": [
        "label_tokenizer = Tokenizer()\n",
        "label_tokenizer.fit_on_texts(labels)\n",
        "\n",
        "training_label_seq = np.array(label_tokenizer.texts_to_sequences(train_labels))\n",
        "validation_label_seq = np.array(label_tokenizer.texts_to_sequences(validation_labels))"
      ],
      "execution_count": 14,
      "outputs": []
    },
    {
      "cell_type": "code",
      "metadata": {
        "colab": {
          "base_uri": "https://localhost:8080/"
        },
        "id": "OjSv9UD-ke9N",
        "outputId": "04048c8f-87c1-405f-af27-9403d5fe0da2"
      },
      "source": [
        "label_tokenizer.word_index"
      ],
      "execution_count": null,
      "outputs": [
        {
          "output_type": "execute_result",
          "data": {
            "text/plain": [
              "{'bug': 2, 'feedback': 3, 'help': 5, 'other': 1, 'request': 4}"
            ]
          },
          "metadata": {
            "tags": []
          },
          "execution_count": 16
        }
      ]
    },
    {
      "cell_type": "code",
      "metadata": {
        "colab": {
          "base_uri": "https://localhost:8080/"
        },
        "id": "iPVg50AGT5B6",
        "outputId": "0afa29d4-ff5d-4942-f100-cbe0362bea96"
      },
      "source": [
        "model = Sequential()\n",
        "\n",
        "model.add(Embedding(vocab_size, embedding_dim))\n",
        "model.add(Dropout(0.5))\n",
        "model.add(Bidirectional(LSTM(embedding_dim)))\n",
        "model.add(Dense(6, activation='softmax'))\n",
        "\n",
        "model.summary()"
      ],
      "execution_count": 16,
      "outputs": [
        {
          "output_type": "stream",
          "text": [
            "Model: \"sequential_1\"\n",
            "_________________________________________________________________\n",
            "Layer (type)                 Output Shape              Param #   \n",
            "=================================================================\n",
            "embedding_1 (Embedding)      (None, None, 64)          320000    \n",
            "_________________________________________________________________\n",
            "dropout_1 (Dropout)          (None, None, 64)          0         \n",
            "_________________________________________________________________\n",
            "bidirectional_1 (Bidirection (None, 128)               66048     \n",
            "_________________________________________________________________\n",
            "dense_1 (Dense)              (None, 6)                 774       \n",
            "=================================================================\n",
            "Total params: 386,822\n",
            "Trainable params: 386,822\n",
            "Non-trainable params: 0\n",
            "_________________________________________________________________\n"
          ],
          "name": "stdout"
        }
      ]
    },
    {
      "cell_type": "code",
      "metadata": {
        "colab": {
          "base_uri": "https://localhost:8080/"
        },
        "id": "zv-YUXUkUd_2",
        "outputId": "35ca5495-62ae-4157-95c8-c435edb3efe5"
      },
      "source": [
        "opt = tf.keras.optimizers.Adam(lr=0.001, decay=1e-6)\n",
        "model.compile(\n",
        "    loss='sparse_categorical_crossentropy',\n",
        "    optimizer=opt,\n",
        "    metrics=['accuracy'],\n",
        ")\n",
        "\n",
        "\n",
        "# log_dir = \"logs/fit/\" + datetime.datetime.now().strftime(\"%Y%m%d-%H%M%S\")\n",
        "# tensorboard_callback = tf.keras.callbacks.TensorBoard(log_dir=log_dir, histogram_freq=1)"
      ],
      "execution_count": null,
      "outputs": [
        {
          "output_type": "stream",
          "text": [
            "/usr/local/lib/python3.7/dist-packages/tensorflow/python/keras/optimizer_v2/optimizer_v2.py:375: UserWarning: The `lr` argument is deprecated, use `learning_rate` instead.\n",
            "  \"The `lr` argument is deprecated, use `learning_rate` instead.\")\n"
          ],
          "name": "stderr"
        }
      ]
    },
    {
      "cell_type": "code",
      "metadata": {
        "id": "cE76bBGEopVN"
      },
      "source": [
        "# ! rm -rf logs\n",
        "# %tensorboard --logdir logs"
      ],
      "execution_count": null,
      "outputs": []
    },
    {
      "cell_type": "code",
      "metadata": {
        "colab": {
          "base_uri": "https://localhost:8080/"
        },
        "id": "JmR0L_DBUg1V",
        "outputId": "f6fd5c1a-a527-44a3-b9c6-94effbb6669c"
      },
      "source": [
        "num_epochs = 10\n",
        "history = model.fit(train_padded, training_label_seq, epochs=num_epochs, validation_data=(validation_padded, validation_label_seq), verbose=2)"
      ],
      "execution_count": null,
      "outputs": [
        {
          "output_type": "stream",
          "text": [
            "Epoch 1/10\n",
            "9873/9873 - 235s - loss: 0.3224 - accuracy: 0.8902 - val_loss: 0.4057 - val_accuracy: 0.8550\n",
            "Epoch 2/10\n",
            "9873/9873 - 225s - loss: 0.2756 - accuracy: 0.9024 - val_loss: 0.3900 - val_accuracy: 0.8610\n",
            "Epoch 3/10\n",
            "9873/9873 - 225s - loss: 0.2634 - accuracy: 0.9069 - val_loss: 0.3849 - val_accuracy: 0.8639\n",
            "Epoch 4/10\n",
            "9873/9873 - 225s - loss: 0.2556 - accuracy: 0.9094 - val_loss: 0.3780 - val_accuracy: 0.8654\n",
            "Epoch 5/10\n",
            "9873/9873 - 219s - loss: 0.2492 - accuracy: 0.9121 - val_loss: 0.3808 - val_accuracy: 0.8668\n",
            "Epoch 6/10\n",
            "9873/9873 - 219s - loss: 0.2450 - accuracy: 0.9133 - val_loss: 0.3774 - val_accuracy: 0.8671\n",
            "Epoch 7/10\n",
            "9873/9873 - 219s - loss: 0.2411 - accuracy: 0.9149 - val_loss: 0.3818 - val_accuracy: 0.8664\n",
            "Epoch 8/10\n",
            "9873/9873 - 222s - loss: 0.2378 - accuracy: 0.9160 - val_loss: 0.3801 - val_accuracy: 0.8664\n",
            "Epoch 9/10\n",
            "9873/9873 - 224s - loss: 0.2344 - accuracy: 0.9171 - val_loss: 0.3809 - val_accuracy: 0.8679\n",
            "Epoch 10/10\n",
            "9873/9873 - 225s - loss: 0.2317 - accuracy: 0.9182 - val_loss: 0.3857 - val_accuracy: 0.8669\n"
          ],
          "name": "stdout"
        }
      ]
    },
    {
      "cell_type": "code",
      "metadata": {
        "id": "v1mfJ6o3lRhd"
      },
      "source": [
        "def plot_history(history):\n",
        "    loss_list = [s for s in history.history.keys() if 'loss' in s and 'val' not in s]\n",
        "    val_loss_list = [s for s in history.history.keys() if 'loss' in s and 'val' in s]\n",
        "    acc_list = [s for s in history.history.keys() if 'acc' in s and 'val' not in s]\n",
        "    val_acc_list = [s for s in history.history.keys() if 'acc' in s and 'val' in s]\n",
        "    \n",
        "    if len(loss_list) == 0:\n",
        "        print('Loss is missing in history')\n",
        "        return \n",
        "    \n",
        "    ## As loss always exists\n",
        "    epochs = range(1,len(history.history[loss_list[0]]) + 1)\n",
        "    \n",
        "    ## Loss\n",
        "    plt.figure(1)\n",
        "    for l in loss_list:\n",
        "        plt.plot(epochs, history.history[l], 'b', label='Training loss (' + str(str(format(history.history[l][-1],'.5f'))+')'))\n",
        "    for l in val_loss_list:\n",
        "        plt.plot(epochs, history.history[l], 'g', label='Validation loss (' + str(str(format(history.history[l][-1],'.5f'))+')'))\n",
        "    \n",
        "    plt.title('Loss')\n",
        "    plt.xlabel('Epochs')\n",
        "    plt.ylabel('Loss')\n",
        "    plt.legend()\n",
        "    \n",
        "    ## Accuracy\n",
        "    plt.figure(2)\n",
        "    for l in acc_list:\n",
        "        plt.plot(epochs, history.history[l], 'b', label='Training accuracy (' + str(format(history.history[l][-1],'.5f'))+')')\n",
        "    for l in val_acc_list:    \n",
        "        plt.plot(epochs, history.history[l], 'g', label='Validation accuracy (' + str(format(history.history[l][-1],'.5f'))+')')\n",
        "\n",
        "    plt.title('Accuracy')\n",
        "    plt.xlabel('Epochs')\n",
        "    plt.ylabel('Accuracy')\n",
        "    plt.legend()\n",
        "    plt.show()"
      ],
      "execution_count": null,
      "outputs": []
    },
    {
      "cell_type": "code",
      "metadata": {
        "id": "AbyUg94rlTd5",
        "colab": {
          "base_uri": "https://localhost:8080/",
          "height": 573
        },
        "outputId": "17f18355-eb6c-4dc8-d82f-fdc071343a28"
      },
      "source": [
        "plot_history(history)"
      ],
      "execution_count": null,
      "outputs": [
        {
          "output_type": "display_data",
          "data": {
            "image/png": "[encoded data removed]",
            "text/plain": [
              "<Figure size 432x288 with 1 Axes>"
            ]
          },
          "metadata": {
            "tags": [],
            "needs_background": "light"
          }
        },
        {
          "output_type": "display_data",
          "data": {
            "image/png": "[encoded data removed]",
            "text/plain": [
              "<Figure size 432x288 with 1 Axes>"
            ]
          },
          "metadata": {
            "tags": [],
            "needs_background": "light"
          }
        }
      ]
    },
    {
      "cell_type": "code",
      "metadata": {
        "id": "ec75Yzj2lVUs",
        "colab": {
          "base_uri": "https://localhost:8080/"
        },
        "outputId": "3c09bb3d-a344-45b1-829b-4333ea3bbcd0"
      },
      "source": [
        "txt = [\"tnx\"]\n",
        "\n",
        "seq = tokenizer.texts_to_sequences(txt)\n",
        "padded = pad_sequences(seq, maxlen=max_length)\n",
        "pred = model.predict(padded)\n",
        "labels = ['other', 'bug', 'feedback', 'request', 'help'] \n",
        "\n",
        "print(pred)\n",
        "print(np.argmax(pred))\n",
        "print(labels[np.argmax(pred) - 1])"
      ],
      "execution_count": 17,
      "outputs": [
        {
          "output_type": "stream",
          "text": [
            "[[0.16873191 0.16994089 0.16833286 0.16545008 0.16518502 0.16235922]]\n",
            "1\n",
            "other\n"
          ],
          "name": "stdout"
        }
      ]
    },
    {
      "cell_type": "code",
      "metadata": {
        "id": "byK9QTzrlWxh",
        "colab": {
          "base_uri": "https://localhost:8080/"
        },
        "outputId": "ed37c38c-9686-4679-8891-a4a53a3f337d"
      },
      "source": [
        "model.save('/content/drive/MyDrive/ABSA/Classifier Data/classifier.m')"
      ],
      "execution_count": 18,
      "outputs": [
        {
          "output_type": "stream",
          "text": [
            "WARNING:tensorflow:Compiled the loaded model, but the compiled metrics have yet to be built. `model.compile_metrics` will be empty until you train or evaluate the model.\n"
          ],
          "name": "stdout"
        },
        {
          "output_type": "stream",
          "text": [
            "WARNING:absl:Found untraced functions such as lstm_cell_7_layer_call_fn, lstm_cell_7_layer_call_and_return_conditional_losses, lstm_cell_8_layer_call_fn, lstm_cell_8_layer_call_and_return_conditional_losses, lstm_cell_7_layer_call_fn while saving (showing 5 of 10). These functions will not be directly callable after loading.\n"
          ],
          "name": "stderr"
        },
        {
          "output_type": "stream",
          "text": [
            "INFO:tensorflow:Assets written to: /content/drive/MyDrive/ABSA/Classifier Data/classifier.m/assets\n"
          ],
          "name": "stdout"
        },
        {
          "output_type": "stream",
          "text": [
            "INFO:tensorflow:Assets written to: /content/drive/MyDrive/ABSA/Classifier Data/classifier.m/assets\n"
          ],
          "name": "stderr"
        }
      ]
    },
    {
      "cell_type": "code",
      "metadata": {
        "id": "pDFhrlt5lYkb",
        "colab": {
          "base_uri": "https://localhost:8080/"
        },
        "outputId": "8a7e9162-cd9a-445a-ab55-72eb29f5ea68"
      },
      "source": [
        "from tensorflow import keras\n",
        "modelL = keras.models.load_model('/content/drive/MyDrive/ABSA/Classifier Data/classifier.m')"
      ],
      "execution_count": 19,
      "outputs": [
        {
          "output_type": "stream",
          "text": [
            "WARNING:tensorflow:No training configuration found in save file, so the model was *not* compiled. Compile it manually.\n"
          ],
          "name": "stdout"
        },
        {
          "output_type": "stream",
          "text": [
            "WARNING:tensorflow:No training configuration found in save file, so the model was *not* compiled. Compile it manually.\n"
          ],
          "name": "stderr"
        }
      ]
    },
    {
      "cell_type": "code",
      "metadata": {
        "id": "MspGMVQllZ5t",
        "colab": {
          "base_uri": "https://localhost:8080/"
        },
        "outputId": "6c48673b-c428-417c-df17-94a4a6f8304a"
      },
      "source": [
        "txt = [\"Suryakumarsk Surya kumar.S\" ,\"tnx\" ]\n",
        "\n",
        "seq = tokenizer.texts_to_sequences(txt)\n",
        "padded = pad_sequences(seq, maxlen=max_length)\n",
        "pred = modelL.predict(padded)\n",
        "labels = ['other', 'bug', 'feedback', 'request', 'help'] \n",
        "\n",
        "print(pred)\n",
        "print(np.argmax(pred))\n",
        "print(labels[np.argmax(pred) - 1] )"
      ],
      "execution_count": 20,
      "outputs": [
        {
          "output_type": "stream",
          "text": [
            "[[0.1671696  0.17053114 0.1704761  0.16635321 0.16328955 0.16218045]\n",
            " [0.16873191 0.16994089 0.16833286 0.16545008 0.16518502 0.16235922]]\n",
            "1\n",
            "other\n"
          ],
          "name": "stdout"
        }
      ]
    },
    {
      "cell_type": "code",
      "metadata": {
        "id": "Vt5HanaFM8c7"
      },
      "source": [
        "from sklearn.metrics import confusion_matrix\n",
        "\n",
        "pred = modelL.predict(validation_padded)\n"
      ],
      "execution_count": 21,
      "outputs": []
    },
    {
      "cell_type": "code",
      "metadata": {
        "id": "wLF-a3lFVV4M"
      },
      "source": [
        "val_pred = []\n",
        "for i in range(0,len(pred)):\n",
        "  val_pred.append([np.argmax(pred[i])])\n"
      ],
      "execution_count": 22,
      "outputs": []
    },
    {
      "cell_type": "code",
      "metadata": {
        "colab": {
          "base_uri": "https://localhost:8080/"
        },
        "id": "sv-kFf0oU6-n",
        "outputId": "214297d1-4bab-4947-fe29-1dbd758239a9"
      },
      "source": [
        "confusion = confusion_matrix(validation_label_seq, val_pred)\n",
        "print('Confusion Matrix\\n')\n",
        "print(confusion)\n"
      ],
      "execution_count": 23,
      "outputs": [
        {
          "output_type": "stream",
          "text": [
            "Confusion Matrix\n",
            "\n",
            "[[    0     0     0     0     0     0]\n",
            " [50228 51153   167    27  2836     1]\n",
            " [ 6632  4745    25     5   992     0]\n",
            " [ 6820  2365    12     1   453     1]\n",
            " [ 4381  1354    45     1   618     3]\n",
            " [ 1150  1235     5     1   131     1]]\n"
          ],
          "name": "stdout"
        }
      ]
    },
    {
      "cell_type": "code",
      "metadata": {
        "colab": {
          "base_uri": "https://localhost:8080/"
        },
        "id": "zjUXtIDhXyQD",
        "outputId": "03f136db-8143-49a1-d600-72dea9333280"
      },
      "source": [
        "from sklearn.metrics import accuracy_score, precision_score, recall_score, f1_score\n",
        "\n",
        "print('\\nAccuracy: {:.2f}\\n'.format(accuracy_score(validation_label_seq, val_pred)))\n",
        "\n",
        "\n",
        "print('Micro Precision: {:.2f}'.format(precision_score(validation_label_seq, val_pred, average='micro')))\n",
        "print('Micro Recall: {:.2f}'.format(recall_score(validation_label_seq, val_pred, average='micro')))\n",
        "print('Micro F1-score: {:.2f}\\n'.format(f1_score(validation_label_seq, val_pred, average='micro')))\n",
        "\n",
        "print('Macro Precision: {:.2f}'.format(precision_score(validation_label_seq, val_pred, average='macro')))\n",
        "print('Macro Recall: {:.2f}'.format(recall_score(validation_label_seq, val_pred, average='macro')))\n",
        "print('Macro F1-score: {:.2f}\\n'.format(f1_score(validation_label_seq, val_pred, average='macro')))\n",
        "\n",
        "print('Weighted Precision: {:.2f}'.format(precision_score(validation_label_seq, val_pred, average='weighted')))\n",
        "print('Weighted Recall: {:.2f}'.format(recall_score(validation_label_seq, val_pred, average='weighted')))\n",
        "print('Weighted F1-score: {:.2f}'.format(f1_score(validation_label_seq, val_pred, average='weighted')))\n"
      ],
      "execution_count": 24,
      "outputs": [
        {
          "output_type": "stream",
          "text": [
            "\n",
            "Accuracy: 0.38\n",
            "\n",
            "Micro Precision: 0.38\n",
            "Micro Recall: 0.38\n",
            "Micro F1-score: 0.38\n",
            "\n",
            "Macro Precision: 0.21\n"
          ],
          "name": "stdout"
        },
        {
          "output_type": "stream",
          "text": [
            "/usr/local/lib/python3.7/dist-packages/sklearn/metrics/_classification.py:1272: UndefinedMetricWarning: Recall is ill-defined and being set to 0.0 in labels with no true samples. Use `zero_division` parameter to control this behavior.\n",
            "  _warn_prf(average, modifier, msg_start, len(result))\n"
          ],
          "name": "stderr"
        },
        {
          "output_type": "stream",
          "text": [
            "Macro Recall: 0.10\n",
            "Macro F1-score: 0.12\n",
            "\n",
            "Weighted Precision: 0.67\n",
            "Weighted Recall: 0.38\n",
            "Weighted F1-score: 0.48\n"
          ],
          "name": "stdout"
        }
      ]
    },
    {
      "cell_type": "code",
      "metadata": {
        "id": "bNNlHfQw1Mr0"
      },
      "source": [
        "def TN_fun (x,y,m) :\n",
        "  tn = 0\n",
        "  for i in range(1,len(m)):\n",
        "    if i == x :\n",
        "      continue\n",
        "    for j in range(0,len(m)-1):\n",
        "      if j == y:\n",
        "        continue\n",
        "      tn += m[i][j]\n",
        "  return tn;\n",
        "\n",
        "def FP_fun (x,y,m):\n",
        "  fp = 0\n",
        "  for j in range(0,len(m)-1):\n",
        "    if j == y:\n",
        "      continue\n",
        "    fp += m[x][j]\n",
        "  return fp\n",
        "\n",
        "def FN_fun (x,y,m):\n",
        "  fn = 0\n",
        "  for i in range(1,len(m)):\n",
        "    if i == x:\n",
        "      continue\n",
        "    fn += m[i][y]\n",
        "  return fn\n",
        "\n",
        "def Precision_fun(x,y,m):\n",
        "  TP = m[x][y]\n",
        "  FP = FP_fun(x,y,m)\n",
        "  return TP / (TP + FP)\n",
        "\n",
        "def Recall_fun(x,y,m):\n",
        "  TP = m[x][y]\n",
        "  FN = FN_fun(x,y,m)\n",
        "  return TP / (TP + FN)\n",
        "\n",
        "def F1_fun(x,y,m):\n",
        "  p = Precision_fun(x,y,m)\n",
        "  r = Recall_fun(x,y,m)\n",
        "  f1 = 2 * (p*r)/(p+r)\n",
        "  return f1\n",
        "  "
      ],
      "execution_count": 90,
      "outputs": []
    },
    {
      "cell_type": "code",
      "metadata": {
        "colab": {
          "base_uri": "https://localhost:8080/"
        },
        "id": "qh4IjAfy7lhV",
        "outputId": "5054edbb-3a6c-4b6f-d388-3e178897c366"
      },
      "source": [
        "#the Other Class\n",
        "Precision = Precision_fun(1,0,confusion)\n",
        "Recall = Recall_fun(1,0,confusion)\n",
        "F1 = F1_fun(1,0,confusion)\n",
        "\n",
        "print(\"Other class Precision: \",Precision)\n",
        "print(\"Other class Recall: \",Recall)\n",
        "print(\"Other class F1: \",F1)\n",
        "\n"
      ],
      "execution_count": 93,
      "outputs": [
        {
          "output_type": "stream",
          "text": [
            "Other class Precision:  0.481060424667899\n",
            "Other class Recall:  0.7257227897299562\n",
            "Other class F1:  0.5785902708182143\n"
          ],
          "name": "stdout"
        }
      ]
    },
    {
      "cell_type": "code",
      "metadata": {
        "colab": {
          "base_uri": "https://localhost:8080/"
        },
        "id": "OmUC6ObHywaC",
        "outputId": "50ffed52-5007-4128-e2eb-06f4e5484581"
      },
      "source": [
        "#The Bug Class\n",
        "Precision = Precision_fun(2,1,confusion)\n",
        "Recall = Recall_fun(2,1,confusion)\n",
        "F1 = F1_fun(2,1,confusion)\n",
        "\n",
        "print(\"Bug class Precision: \",Precision)\n",
        "print(\"Bug class Recall: \",Recall)\n",
        "print(\"Bug class F1: \",F1)"
      ],
      "execution_count": 94,
      "outputs": [
        {
          "output_type": "stream",
          "text": [
            "Bug class Precision:  0.38269215259295103\n",
            "Bug class Recall:  0.07797607309537895\n",
            "Bug class F1:  0.12955454533043917\n"
          ],
          "name": "stdout"
        }
      ]
    },
    {
      "cell_type": "code",
      "metadata": {
        "colab": {
          "base_uri": "https://localhost:8080/"
        },
        "cellView": "code",
        "id": "nd57o_6u8pfs",
        "outputId": "e8d5658d-3695-4740-9a38-dcccbbb9348d"
      },
      "source": [
        "#The Feedback Class\n",
        "Precision = Precision_fun(3,2,confusion)\n",
        "Recall = Recall_fun(3,2,confusion)\n",
        "F1 = F1_fun(3,2,confusion)\n",
        "\n",
        "print(\"Bug class Precision: \",Precision)\n",
        "print(\"Bug class Recall: \",Recall)\n",
        "print(\"Bug class F1: \",F1)\n"
      ],
      "execution_count": 96,
      "outputs": [
        {
          "output_type": "stream",
          "text": [
            "Bug class Precision:  0.0012433944668946222\n",
            "Bug class Recall:  0.047244094488188976\n",
            "Bug class F1:  0.0024230186774356383\n"
          ],
          "name": "stdout"
        }
      ]
    },
    {
      "cell_type": "code",
      "metadata": {
        "colab": {
          "base_uri": "https://localhost:8080/"
        },
        "id": "cjNdvp6U9M_r",
        "outputId": "8ac29780-71a9-4805-9e7b-3afc565bf120"
      },
      "source": [
        "#The Request Class\n",
        "Precision = Precision_fun(4,3,confusion)\n",
        "Recall = Recall_fun(4,3,confusion)\n",
        "F1 = F1_fun(4,3,confusion)\n",
        "print(\"Bug class Precision: \",Precision)\n",
        "print(\"Bug class Recall: \",Recall)\n",
        "print(\"Bug class F1: \",F1)\n"
      ],
      "execution_count": 98,
      "outputs": [
        {
          "output_type": "stream",
          "text": [
            "Bug class Precision:  0.0001562744178777934\n",
            "Bug class Recall:  0.02857142857142857\n",
            "Bug class F1:  0.00031084861672365556\n"
          ],
          "name": "stdout"
        }
      ]
    },
    {
      "cell_type": "code",
      "metadata": {
        "colab": {
          "base_uri": "https://localhost:8080/"
        },
        "id": "VoSgJ-Pp9Ucf",
        "outputId": "eac74f22-f258-47d4-833e-fd92a988a50b"
      },
      "source": [
        "#The Help Class\n",
        "Precision = Precision_fun(5,4,confusion)\n",
        "Recall = Recall_fun(5,4,confusion)\n",
        "F1 = F1_fun(5,4,confusion)\n",
        "\n",
        "print(\"Bug class Precision: \",Precision)\n",
        "print(\"Bug class Recall: \",Recall)\n",
        "print(\"Bug class F1: \",F1)\n"
      ],
      "execution_count": 99,
      "outputs": [
        {
          "output_type": "stream",
          "text": [
            "Bug class Precision:  0.05194290245836638\n",
            "Bug class Recall:  0.026043737574552684\n",
            "Bug class F1:  0.03469279661016949\n"
          ],
          "name": "stdout"
        }
      ]
    }
  ]
}